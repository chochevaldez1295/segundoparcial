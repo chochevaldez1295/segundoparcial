{
 "cells": [
  {
   "cell_type": "markdown",
   "metadata": {},
   "source": [
    "# ¿Qué es REST?\n",
    "\n",
    "REST, REpresentational State Transfer, es un tipo de arquitectura de desarrollo web que se apoya totalmente en el estándar HTTP.\n",
    "REST nos permite crear servicios y aplicaciones que pueden ser usadas por cualquier dispositivo o cliente que entienda HTTP, por lo que es increíblemente más simple y convencional que otras alternativas que se han usado en los últimos diez años como SOAP y XML-RPC.\n",
    "REST se definió en el 2000 por Roy Fielding, coautor principal también de la especificación HTTP. Podríamos considerar REST como un framework para construir aplicaciones web respetando HTTP.\n",
    "Por lo tanto REST es el tipo de arquitectura más natural y estándar para crear APIs para servicios orientados a Internet.\n",
    "\n",
    "Existen tres niveles de calidad a la hora de aplicar REST en el desarrollo de una aplicación web y más concretamente una API que se recogen en un modelo llamado Richardson Maturity Model en honor al tipo que lo estableció, Leonard Richardson padre de la arquitectura orientada a recursos. Estos niveles son:\n",
    "\n",
    "1. Uso correcto de URIs\n",
    "2. Uso correcto de HTTP.\n",
    "3. Implementar Hypermedia.\n",
    "\n",
    "Además de estas tres reglas, nunca se debe guardar estado en el servidor, toda la información que se requiere para mostrar la información que se solicita debe estar en la consulta por parte del cliente.\n",
    "\n",
    "Al no guardar estado, REST nos da mucho juego, ya que podemos escalar mejor sin tener que preocuparnos de temas como el almacenamiento de variables de sesión e incluso, podemos jugar con distintas tecnologías para servir determinadas partes o recursos de una misma API."
   ]
  },
  {
   "cell_type": "markdown",
   "metadata": {},
   "source": [
    "# Arquitectura REST\n",
    "## Reglas de una arquitectura REST\n",
    "    -Interfaz uniforme\n",
    "    -Peticiones sin estado\n",
    "    -Cacheable\n",
    "    -Separación de cliente y servidor\n",
    "    -Sistema de Capas\n",
    "    -Código bajo demanda (opcional)"
   ]
  },
  {
   "cell_type": "markdown",
   "metadata": {},
   "source": [
    "# Verbos HTTP\n",
    "    -GET: Para consultar y leer recursos.\n",
    "    -POST: Para crear recursos.\n",
    "    -PUT: Para editar recursos.\n",
    "    -DELETE: Para eliminar recursos.\n",
    "    -PATCH: Para editar partes concretas de un recurso.\n",
    "\n",
    "## GET\n",
    "\n",
    "GET es el tipo más simple de método de solicitud HTTP; La que usan los navegadores cada vez que hace clic en un enlace o escribe una URL en la barra de direcciones. Indica al servidor que transmita los datos identificados por la URL al cliente. Los datos nunca deben ser modificados en el lado del servidor como resultado de una solicitud GET. En este sentido, una petición GET es de sólo lectura, pero por supuesto, una vez que el cliente recibe los datos, es libre de hacer cualquier operación con ella por su cuenta, por ejemplo, formatearla para su visualización.\n",
    "\n",
    "## PUT\n",
    "Una petición PUT se utiliza cuando se desea crear o actualizar el recurso identificado por la URL. Por ejemplo,\n",
    "#### PUT /clients/robin\n",
    "Podría crear un cliente, llamado Robin en el servidor. Usted notará que REST es completamente agnóstico de servidor; No hay nada en la solicitud que informe al servidor cómo deben crearse los datos, sólo que debería. Esto le permite intercambiar fácilmente la tecnología del servidor si la necesidad surge. Las peticiones PUT contienen los datos que se utilizarán para actualizar o crear el recurso en el cuerpo. En cURL, puede agregar datos a la solicitud con el modificador -d.\n",
    "#### curl -v -X PUT -d \"some text\"\n",
    "\n",
    "## DELETE\n",
    "DELETE debe realizar lo contrario de PUT; Debe utilizarse cuando desee eliminar el recurso identificado por la URL de la solicitud.\n",
    "#### curl -v -X DELETE /clients/anne\n",
    "Esto eliminará todos los datos asociados con el recurso, identificados por **/clients/anne**.\n",
    "\n",
    "## POST\n",
    "POST se utiliza cuando el procesamiento que desea que suceda en el servidor debe repetirse, si la solicitud POST se repite (es decir, no son idempotent, más de esto a continuación). Además, las solicitudes POST deben causar el procesamiento del cuerpo de la solicitud como un subordinado de la URL que está publicando.\n",
    "En palabras claras:\n",
    "#### POST /clients/\n",
    "No debe causar que el recurso en **/clients/**, se modifique, sino un recurso cuya URL comience con **/clients/**. Por ejemplo, podría agregar un nuevo cliente a la lista, con un ID generado por el servidor.\n",
    "#### /clients/some-unique-id\n",
    "PUT solicitudes se utilizan fácilmente en lugar de solicitudes POST, y viceversa. Algunos sistemas utilizan sólo uno, algunos utilizan POST para crear operaciones y PUT para operaciones de actualización (ya que con una solicitud PUT siempre proporcionan la URL completa), algunos incluso utilizan POST para actualizaciones y PUT para crear.\n",
    "A menudo, las solicitudes POST se utilizan para activar las operaciones en el servidor, que no encajan en el paradigma **Crear / Actualizar / Eliminar**; Pero esto, sin embargo, está más allá del alcance de REST"
   ]
  },
  {
   "cell_type": "markdown",
   "metadata": {},
   "source": [
    "# Clasificación de Métodos HTTP\n",
    "## Métodos seguros e inseguros:\n",
    "Los métodos seguros son aquellos que nunca modifican los recursos. Los únicos métodos seguros, de los cuatro enumerados arriba, es GET. Los otros son inseguros, porque pueden resultar en una modificación de los recursos.\n",
    "\n",
    "## Métodos idempotentes:\n",
    "Estos métodos consiguen el mismo resultado, no importa cuántas veces se repita la solicitud: son GET, PUT y DELETE. El único método no idempotente es POST. PUT y DELETE ser considerado idempotente podría ser sorprendente, sin embargo, de hecho, es bastante fácil de explicar: repetir un método PUT con exactamente el mismo cuerpo debería modificar un recurso de tal forma que siga siendo idéntico al descrito en el anterior Solicitud PUT: ¡nada cambiará! Del mismo modo, no tiene sentido eliminar un recurso dos veces. Se sigue que no importa cuántas veces se repite una solicitud PUT o DELETE, el resultado debe ser el mismo que si se hubiera hecho sólo una vez."
   ]
  },
  {
   "cell_type": "code",
   "execution_count": null,
   "metadata": {},
   "outputs": [],
   "source": []
  }
 ],
 "metadata": {
  "kernelspec": {
   "display_name": "Python 3",
   "language": "python",
   "name": "python3"
  },
  "language_info": {
   "codemirror_mode": {
    "name": "ipython",
    "version": 3
   },
   "file_extension": ".py",
   "mimetype": "text/x-python",
   "name": "python",
   "nbconvert_exporter": "python",
   "pygments_lexer": "ipython3",
   "version": "3.6.8"
  }
 },
 "nbformat": 4,
 "nbformat_minor": 2
}
