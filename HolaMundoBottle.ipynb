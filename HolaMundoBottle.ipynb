{
 "cells": [
  {
   "cell_type": "code",
   "execution_count": null,
   "metadata": {},
   "outputs": [],
   "source": [
    "pip install bottle"
   ]
  },
  {
   "cell_type": "code",
   "execution_count": null,
   "metadata": {},
   "outputs": [],
   "source": [
    "from bottle import route, run\n",
    "\n",
    "@route('/hola')\n",
    "def hello():\n",
    "    return \"Hola Botella de coca de 1 litro\"\n",
    "\n",
    "run(host='0.0.0.0',port=5000,debug=True)"
   ]
  },
  {
   "cell_type": "markdown",
   "metadata": {},
   "source": [
    "route() es un decorador que conecta una funcion a una URL, en este caso conectamos a la ruta /hola a la función hello(). Esto es llamado a una ruta, y es uno de los conceptos mas importantes de este framework. Se pueden definir tantas rutas como sean necesarias, y cuando desde un navegador solicite una URL, la función asociada a esa ruta será ejecutada y responderá al navegador.\n",
    "\n",
    "La función run() en las ultimas lineas inicia el servidor web de desarrollo, este se ejecuta en local en el puerto 8080, y responde a las solicitudes hasta que presionamos ctrl-c. Podemos cambiar el servidor, esto en caso de llevar a \"producción\" nuestra aplicación, pero para desarrollo con las opciones default nos es suficiente, no necesita instalarse y es lo mas sencillo para probar nuestra aplicación."
   ]
  },
  {
   "cell_type": "markdown",
   "metadata": {},
   "source": [
    "## La aplicacion default\n",
    "\n",
    "Podemos observar en el ejemplo que usamos el decorador route() para definir las rutas, esto añade las rutas a nuestra aplicación default, una instancia que se crea la primera vez que usamos el decorador route(), pero para seguir un enfoque mas orientado a objetos, crearemos primero la instancia de la aplicacion y añadiremos estas rutas a nuestra instancia explicitamente."
   ]
  },
  {
   "cell_type": "code",
   "execution_count": 1,
   "metadata": {},
   "outputs": [
    {
     "name": "stderr",
     "output_type": "stream",
     "text": [
      "Bottle v0.12.16 server starting up (using WSGIRefServer())...\n",
      "Listening on http://0.0.0.0:5000/\n",
      "Hit Ctrl-C to quit.\n",
      "\n",
      "10.0.2.2 - - [15/Mar/2019 10:07:27] \"GET /hola HTTP/1.1\" 200 10\n",
      "/home/vagrant/.local/share/virtualenvs/Jupyternotebooks-vMpxa5dg/lib/python3.6/site-packages/bottle.py:3131: ResourceWarning: unclosed <socket.socket fd=55, family=AddressFamily.AF_INET, type=SocketKind.SOCK_STREAM, proto=0, laddr=('0.0.0.0', 5000)>\n",
      "  pass\n"
     ]
    }
   ],
   "source": [
    "from bottle import Bottle, run\n",
    "\n",
    "app=Bottle()\n",
    "\n",
    "@app.route('/hola')\n",
    "def hello():\n",
    "    return \"Hola Mundo\"\n",
    "\n",
    "run(app, host='0.0.0.0',port=5000, debug=True)"
   ]
  },
  {
   "cell_type": "markdown",
   "metadata": {},
   "source": [
    "## Añadiendo una ruta mas\n",
    "\n",
    "Podemos añadir mas de una ruta a una función, además podemos añadir \"comodines\" (wildcars) a la ruta para hacerla más dinámica. Además veremos en acción el modulo template, donde nuestra función regresará un valor y será reemplazado en nuestro HTML."
   ]
  },
  {
   "cell_type": "code",
   "execution_count": 2,
   "metadata": {},
   "outputs": [
    {
     "name": "stderr",
     "output_type": "stream",
     "text": [
      "Bottle v0.12.16 server starting up (using WSGIRefServer())...\n",
      "Listening on http://0.0.0.0:5000/\n",
      "Hit Ctrl-C to quit.\n",
      "\n",
      "10.0.2.2 - - [15/Mar/2019 10:15:01] \"GET / HTTP/1.1\" 200 27\n",
      "10.0.2.2 - - [15/Mar/2019 10:15:49] \"GET /hello HTTP/1.1\" 404 730\n",
      "10.0.2.2 - - [15/Mar/2019 10:16:02] \"GET /hola HTTP/1.1\" 404 728\n",
      "10.0.2.2 - - [15/Mar/2019 10:16:08] \"GET /hola/Luis HTTP/1.1\" 200 23\n",
      "10.0.2.2 - - [15/Mar/2019 10:17:17] \"GET /hola/Pinche%20putita HTTP/1.1\" 200 32\n",
      "10.0.2.2 - - [15/Mar/2019 10:17:25] \"GET /hola/Luis HTTP/1.1\" 200 23\n"
     ]
    }
   ],
   "source": [
    "from bottle import Bottle,run,template\n",
    "\n",
    "app=Bottle()\n",
    "\n",
    "@app.route('/')\n",
    "@app.route('/hola/<name>')\n",
    "def hello(name='Extraño'):\n",
    "    return template('Hola {{label}}, cómo estas?',label=name)\n",
    "\n",
    "run(app,host='0.0.0.0',port=5000,debug=True)"
   ]
  },
  {
   "cell_type": "markdown",
   "metadata": {},
   "source": [
    "## Un ejemplo de POST y GET\n",
    "\n",
    "Podemos ver un ejemplo de manejar los diferentes verbos o métodos HTTP con el ejemplo de un login sencillo:"
   ]
  },
  {
   "cell_type": "code",
   "execution_count": 8,
   "metadata": {},
   "outputs": [
    {
     "name": "stderr",
     "output_type": "stream",
     "text": [
      "Bottle v0.12.16 server starting up (using WSGIRefServer())...\n",
      "Listening on http://0.0.0.0:5000/\n",
      "Hit Ctrl-C to quit.\n",
      "\n",
      "10.0.2.2 - - [15/Mar/2019 10:54:02] \"GET /login HTTP/1.1\" 200 219\n",
      "10.0.2.2 - - [15/Mar/2019 10:57:25] \"POST /login HTTP/1.1\" 303 0\n",
      "10.0.2.2 - - [15/Mar/2019 10:57:25] \"GET /loged/Luis HTTP/1.1\" 200 16\n",
      "10.0.2.2 - - [15/Mar/2019 10:57:58] \"GET /login HTTP/1.1\" 200 219\n",
      "10.0.2.2 - - [15/Mar/2019 10:58:01] \"POST /login HTTP/1.1\" 303 0\n",
      "10.0.2.2 - - [15/Mar/2019 10:58:01] \"GET /login?Failed=1 HTTP/1.1\" 200 247\n",
      "10.0.2.2 - - [15/Mar/2019 10:58:17] \"GET /login HTTP/1.1\" 200 219\n",
      "10.0.2.2 - - [15/Mar/2019 10:58:19] \"POST /login HTTP/1.1\" 303 0\n",
      "10.0.2.2 - - [15/Mar/2019 10:58:19] \"GET /loged/Luis HTTP/1.1\" 200 16\n",
      "10.0.2.2 - - [15/Mar/2019 10:59:39] \"GET /loged/Fer HTTP/1.1\" 200 15\n"
     ]
    }
   ],
   "source": [
    "from bottle import Bottle,run,template,request,redirect\n",
    "\n",
    "app=Bottle()\n",
    "\n",
    "@app.route('/')\n",
    "@app.route('/hola/<name>')\n",
    "def hello(name='Extraño'):\n",
    "    return template('Hola {{name}},como estas?',name=name)\n",
    "\n",
    "@app.route('/loged/<name>')\n",
    "def loged(name='Extraño'):\n",
    "    return template('''You're in! {{name}} ''',name=name)\n",
    "\n",
    "def checkLogin(username,password):\n",
    "    isLogged=False\n",
    "    if username=='Luis' and password=='123':\n",
    "        isLogged=True\n",
    "    return isLogged\n",
    "\n",
    "@app.route('/login',method='GET')\n",
    "def login():\n",
    "    isFailed='0' if request.query.Failed== '' else request.query.Failed\n",
    "    \n",
    "    formString='''<form action=\"/login\" method=\"post\">\n",
    "        Username: <input name=\"username\" type=\"text\" />\n",
    "        Password: <input name=\"password\" type=\"password\" />\n",
    "        <input value=\"Login\" type=\"submit\" />\n",
    "      </form>  \n",
    "    '''\n",
    "    \n",
    "    if int(isFailed)==1:\n",
    "        return '<p><strong>Login failed!</p>'+formString\n",
    "    else:\n",
    "        return formString\n",
    "\n",
    "@app.post('/login')# or @route('login',method='POST')\n",
    "def do_login():\n",
    "    username=request.forms.get('username')\n",
    "    password=request.forms.get('password')\n",
    "    if checkLogin(username,password):\n",
    "        redirect(f\"/loged/{username}\")\n",
    "    else:\n",
    "        redirect(\"/login?Failed=1\")\n",
    "\n",
    "run(app,host='0.0.0.0',port=5000,debug=True)"
   ]
  },
  {
   "cell_type": "code",
   "execution_count": null,
   "metadata": {},
   "outputs": [],
   "source": []
  }
 ],
 "metadata": {
  "kernelspec": {
   "display_name": "Python 3",
   "language": "python",
   "name": "python3"
  },
  "language_info": {
   "codemirror_mode": {
    "name": "ipython",
    "version": 3
   },
   "file_extension": ".py",
   "mimetype": "text/x-python",
   "name": "python",
   "nbconvert_exporter": "python",
   "pygments_lexer": "ipython3",
   "version": "3.6.8"
  }
 },
 "nbformat": 4,
 "nbformat_minor": 2
}
